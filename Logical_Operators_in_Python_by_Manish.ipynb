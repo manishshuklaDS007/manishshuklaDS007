{
  "nbformat": 4,
  "nbformat_minor": 0,
  "metadata": {
    "colab": {
      "provenance": [],
      "authorship_tag": "ABX9TyPV/8lLXNbEE9GlE6YXVZkX",
      "include_colab_link": true
    },
    "kernelspec": {
      "name": "python3",
      "display_name": "Python 3"
    },
    "language_info": {
      "name": "python"
    }
  },
  "cells": [
    {
      "cell_type": "markdown",
      "metadata": {
        "id": "view-in-github",
        "colab_type": "text"
      },
      "source": [
        "<a href=\"https://colab.research.google.com/github/manishshuklaDS007/manishshuklaDS007/blob/main/Logical_Operators_in_Python_by_Manish.ipynb\" target=\"_parent\"><img src=\"https://colab.research.google.com/assets/colab-badge.svg\" alt=\"Open In Colab\"/></a>"
      ]
    },
    {
      "cell_type": "code",
      "execution_count": null,
      "metadata": {
        "id": "EIboHxvPInXd"
      },
      "outputs": [],
      "source": [
        "'''\n",
        "Operator\tDescription\t\t\t\t\t\t                        Example\n",
        "and \tReturns True if both statements are true\t\t\t    x < 5 and  x < 10\n",
        "or\t  Returns True if one of the statements is true\t\t\tx < 5 or x < 4\n",
        "not\t  Reverse the result, returns False if the result is true\tnot\t(x < 5 and x < 10)\n",
        "'''\n",
        "\n"
      ]
    },
    {
      "cell_type": "code",
      "source": [
        "print(x < 5 and x < 10)"
      ],
      "metadata": {
        "colab": {
          "base_uri": "https://localhost:8080/"
        },
        "id": "fJCOVhyfl2S0",
        "outputId": "6efdca03-6ead-4475-9139-381914295266"
      },
      "execution_count": 7,
      "outputs": [
        {
          "output_type": "stream",
          "name": "stdout",
          "text": [
            "False\n"
          ]
        }
      ]
    },
    {
      "cell_type": "code",
      "source": [
        "print(x <5 or x<10)"
      ],
      "metadata": {
        "colab": {
          "base_uri": "https://localhost:8080/"
        },
        "id": "6OvWzA9FmfNr",
        "outputId": "0e10494e-5604-41c8-dcee-b8ddccb0a47d"
      },
      "execution_count": 8,
      "outputs": [
        {
          "output_type": "stream",
          "name": "stdout",
          "text": [
            "False\n"
          ]
        }
      ]
    },
    {
      "cell_type": "code",
      "source": [
        "print(not(x <4 and x<13))"
      ],
      "metadata": {
        "colab": {
          "base_uri": "https://localhost:8080/"
        },
        "id": "eUih5XjzmqyR",
        "outputId": "6b4a971b-0246-4740-e70c-96c76f372b18"
      },
      "execution_count": 9,
      "outputs": [
        {
          "output_type": "stream",
          "name": "stdout",
          "text": [
            "True\n"
          ]
        }
      ]
    },
    {
      "cell_type": "code",
      "source": [
        "# Alternate option\n",
        "print (x < 5 and x < 10);\n",
        "print (x < 5 or x < 10);\n",
        "print (not(x < 5 and x < 10));"
      ],
      "metadata": {
        "colab": {
          "base_uri": "https://localhost:8080/"
        },
        "id": "h3Db3c6knxhi",
        "outputId": "03ff1cfa-3dc4-4da9-c3f6-f666ab448a35"
      },
      "execution_count": 14,
      "outputs": [
        {
          "output_type": "stream",
          "name": "stdout",
          "text": [
            "False\n",
            "False\n",
            "True\n"
          ]
        }
      ]
    }
  ]
}