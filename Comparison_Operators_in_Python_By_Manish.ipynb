{
  "nbformat": 4,
  "nbformat_minor": 0,
  "metadata": {
    "colab": {
      "provenance": [],
      "authorship_tag": "ABX9TyNCwkNMBeP3zb9t/auWTKoF",
      "include_colab_link": true
    },
    "kernelspec": {
      "name": "python3",
      "display_name": "Python 3"
    },
    "language_info": {
      "name": "python"
    }
  },
  "cells": [
    {
      "cell_type": "markdown",
      "metadata": {
        "id": "view-in-github",
        "colab_type": "text"
      },
      "source": [
        "<a href=\"https://colab.research.google.com/github/manishshuklaDS007/manishshuklaDS007/blob/main/Comparison_operators_By_Manish.ipynb\" target=\"_parent\"><img src=\"https://colab.research.google.com/assets/colab-badge.svg\" alt=\"Open In Colab\"/></a>"
      ]
    },
    {
      "cell_type": "code",
      "source": [
        "\n",
        "'''\n",
        "Operator\t      Name\t                    Example\n",
        "\n",
        "  ==\t          Equal\t                     a == b\n",
        "  !=\t          Not equal\t                 a != b\n",
        "  >\t           Greater than\t              a > b\n",
        "  <\t           Less than\t                 a < b\n",
        "  >=\t          Greater than or equal to\t  a >= b\n",
        "  <=\t          Less than or equal to\t     a <= b\n",
        "\n",
        "'''"
      ],
      "metadata": {
        "colab": {
          "base_uri": "https://localhost:8080/",
          "height": 52
        },
        "id": "PzqphyB8G8UK",
        "outputId": "2d66ae0b-8701-4d5e-bedd-55a3ce5e247c"
      },
      "execution_count": 1,
      "outputs": [
        {
          "output_type": "execute_result",
          "data": {
            "text/plain": [
              "'\\nOperator\\tName\\tEaample\\n==\\tEqual\\ta == b\\n!=\\tNot equal\\ta != b\\n>\\tGreater than\\ta > b\\n<\\tLess than\\ta < b\\n>=\\tGreater than or equal to\\ta >= b\\n<=\\tLess than or equal to\\ta <= b\\n\\n'"
            ],
            "application/vnd.google.colaboratory.intrinsic+json": {
              "type": "string"
            }
          },
          "metadata": {},
          "execution_count": 1
        }
      ]
    },
    {
      "cell_type": "code",
      "source": [
        "#Comparison operators: These operators are used to compare two values.\n",
        "\n",
        "a=10; b=20; print (a==b)\n",
        "a=10; b=20; print(a != b)\n",
        "a=10; b=20; print(a > b)\n",
        "a=10; b=20; print(a < b)\n",
        "a=10; b=20; print(a >= b)\n",
        "a=10; b=20; print(a <= b)\n",
        "\n"
      ],
      "metadata": {
        "colab": {
          "base_uri": "https://localhost:8080/"
        },
        "id": "WmczDbQberRi",
        "outputId": "9f4bec4a-c4b5-42ce-f49a-3090927bb4ea"
      },
      "execution_count": 26,
      "outputs": [
        {
          "output_type": "stream",
          "name": "stdout",
          "text": [
            "False\n",
            "True\n",
            "False\n",
            "True\n",
            "False\n",
            "True\n"
          ]
        }
      ]
    }
  ]
}
