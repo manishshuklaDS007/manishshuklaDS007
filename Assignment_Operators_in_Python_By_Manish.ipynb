{
  "nbformat": 4,
  "nbformat_minor": 0,
  "metadata": {
    "colab": {
      "provenance": [],
      "authorship_tag": "ABX9TyNJror7hQA70DJsZZkJ5XCr",
      "include_colab_link": true
    },
    "kernelspec": {
      "name": "python3",
      "display_name": "Python 3"
    },
    "language_info": {
      "name": "python"
    }
  },
  "cells": [
    {
      "cell_type": "markdown",
      "metadata": {
        "id": "view-in-github",
        "colab_type": "text"
      },
      "source": [
        "<a href=\"https://colab.research.google.com/github/manishshuklaDS007/manishshuklaDS007/blob/main/Assignment_Operators_in_Python_By_Manish.ipynb\" target=\"_parent\"><img src=\"https://colab.research.google.com/assets/colab-badge.svg\" alt=\"Open In Colab\"/></a>"
      ]
    },
    {
      "cell_type": "code",
      "execution_count": null,
      "metadata": {
        "id": "mlxJ-QXCDlHj"
      },
      "outputs": [],
      "source": [
        "# The Assignment operators are used to assign values to variables\n",
        "\n",
        "# Operator\tExample\t\t    Simplification\n",
        "#      =\t\ta = 5\t\t        a = 5\n",
        "#     +=\t\ta += 5\t\t      a = a + 5\n",
        "#     -=\t\ta -= 5\t\t      a = a - 5\n",
        "#     *=\t\ta *= 5\t\t      a = a * 5\n",
        "#     /=\t\ta /= 5\t\t      a = a / 5\n",
        "#     %=\t\ta %= 5\t\t      a = a % 5\n",
        "#     //=\t\ta //= 5\t\t      a = a // 5\n",
        "#     **=\t\ta **= 5\t\t      a = a ** 5\n",
        "#     &=\t\ta &= 5\t\t      a = a & 5\n",
        "#     |=\t\ta |= 5\t\t      a = a | 5\n",
        "#     ^=\t\ta ^= 5\t\t      a = a ^ 5\n",
        "#     >>=\t\ta >>= 5\t\t      a = a >> 5\n",
        "#     <<=\t\ta <<= 5\t\t      a = a << 5\n",
        "#     :=\t\tprint(a := 5)\t  a = 5\n",
        "\t\t\t\t                    #print(a)\n",
        "\n"
      ]
    },
    {
      "cell_type": "code",
      "source": [
        "a=10\n",
        "print(a)\n",
        "#or a"
      ],
      "metadata": {
        "colab": {
          "base_uri": "https://localhost:8080/"
        },
        "id": "hxCgIWZMD5_O",
        "outputId": "b9ed4849-fcb0-43ef-a2f4-b82d625b14aa"
      },
      "execution_count": 3,
      "outputs": [
        {
          "output_type": "stream",
          "name": "stdout",
          "text": [
            "10\n"
          ]
        }
      ]
    },
    {
      "cell_type": "code",
      "source": [
        "a=5\n",
        "a += 5\n",
        "a"
      ],
      "metadata": {
        "colab": {
          "base_uri": "https://localhost:8080/"
        },
        "id": "mw_xOpYzG9rQ",
        "outputId": "c816e64e-c094-42f0-aa09-c6c6e4bd4261"
      },
      "execution_count": 6,
      "outputs": [
        {
          "output_type": "execute_result",
          "data": {
            "text/plain": [
              "10"
            ]
          },
          "metadata": {},
          "execution_count": 6
        }
      ]
    },
    {
      "cell_type": "code",
      "source": [
        "a=10\n",
        "a -= 10\n",
        "a\n"
      ],
      "metadata": {
        "colab": {
          "base_uri": "https://localhost:8080/"
        },
        "id": "4hjSP0ViHhZQ",
        "outputId": "e8930dec-6993-4aed-b18d-3ef232534c6e"
      },
      "execution_count": 9,
      "outputs": [
        {
          "output_type": "execute_result",
          "data": {
            "text/plain": [
              "0"
            ]
          },
          "metadata": {},
          "execution_count": 9
        }
      ]
    },
    {
      "cell_type": "code",
      "source": [
        "a=5\n",
        "a *= 5\n",
        "a"
      ],
      "metadata": {
        "colab": {
          "base_uri": "https://localhost:8080/"
        },
        "id": "00TwAaKQIB2n",
        "outputId": "938f5ba3-5ae6-4e76-ec81-3817c13c4a4d"
      },
      "execution_count": 10,
      "outputs": [
        {
          "output_type": "execute_result",
          "data": {
            "text/plain": [
              "25"
            ]
          },
          "metadata": {},
          "execution_count": 10
        }
      ]
    },
    {
      "cell_type": "code",
      "source": [
        "a=10\n",
        "a /= 5 # a = a / 5\n",
        "a"
      ],
      "metadata": {
        "colab": {
          "base_uri": "https://localhost:8080/"
        },
        "id": "AqQ7scJwIL9m",
        "outputId": "8c2c4203-d70c-46a7-d7ce-081c8eb10fd4"
      },
      "execution_count": 11,
      "outputs": [
        {
          "output_type": "execute_result",
          "data": {
            "text/plain": [
              "2.0"
            ]
          },
          "metadata": {},
          "execution_count": 11
        }
      ]
    },
    {
      "cell_type": "code",
      "source": [
        "a=10\n",
        "a %= 5 # a = a % 5 - It's not percent, It's modulo operation(%) which returns the remainder of dividing the left-hand operand by right-hand operand\n",
        "a\n"
      ],
      "metadata": {
        "colab": {
          "base_uri": "https://localhost:8080/"
        },
        "id": "B5mkJX49Ibdt",
        "outputId": "c2272565-f511-43e1-d424-a13be4abcafc"
      },
      "execution_count": 12,
      "outputs": [
        {
          "output_type": "execute_result",
          "data": {
            "text/plain": [
              "0"
            ]
          },
          "metadata": {},
          "execution_count": 12
        }
      ]
    },
    {
      "cell_type": "code",
      "source": [
        "a=10\n",
        "a //= 5 # a = a // 5\n",
        "a"
      ],
      "metadata": {
        "colab": {
          "base_uri": "https://localhost:8080/"
        },
        "id": "DbEmuXvKIq-u",
        "outputId": "ceb147f7-7ed6-4076-f187-63d5ae5a2e77"
      },
      "execution_count": 13,
      "outputs": [
        {
          "output_type": "execute_result",
          "data": {
            "text/plain": [
              "2"
            ]
          },
          "metadata": {},
          "execution_count": 13
        }
      ]
    },
    {
      "cell_type": "code",
      "source": [
        "a=10\n",
        "a **= 2 # a = a ** 2\n",
        "a"
      ],
      "metadata": {
        "colab": {
          "base_uri": "https://localhost:8080/"
        },
        "id": "zLZMawbvJ1rm",
        "outputId": "19143b44-35e5-40b9-d9cb-aedfab58fdc3"
      },
      "execution_count": 16,
      "outputs": [
        {
          "output_type": "execute_result",
          "data": {
            "text/plain": [
              "100"
            ]
          },
          "metadata": {},
          "execution_count": 16
        }
      ]
    },
    {
      "cell_type": "code",
      "source": [
        "# It is a compound assignment operator that performs a bitwise AND operation and assigns the result back to the variable on the left-hand side.\n",
        "# Performs Bitwise AND on operands and assign value to left operand\n",
        "a=5\n",
        "a &= 5 # a = a & 5\n",
        "a"
      ],
      "metadata": {
        "colab": {
          "base_uri": "https://localhost:8080/"
        },
        "id": "NaJNfJYzKNUW",
        "outputId": "8f4cc423-7a7f-450f-94e7-305c2171d111"
      },
      "execution_count": 18,
      "outputs": [
        {
          "output_type": "execute_result",
          "data": {
            "text/plain": [
              "5"
            ]
          },
          "metadata": {},
          "execution_count": 18
        }
      ]
    },
    {
      "cell_type": "code",
      "source": [
        "# Performs Bitwise OR on operands and assign value to left operand\n",
        "a=10\n",
        "a |= 5 # a = a | 5\n",
        "\n",
        "print (a)\n"
      ],
      "metadata": {
        "colab": {
          "base_uri": "https://localhost:8080/"
        },
        "id": "64NCa0bjLe6O",
        "outputId": "92eefb12-d955-4c47-eb84-c098deb02a8b"
      },
      "execution_count": 28,
      "outputs": [
        {
          "output_type": "stream",
          "name": "stdout",
          "text": [
            "15\n"
          ]
        }
      ]
    },
    {
      "cell_type": "code",
      "source": [
        "# Performs Bitwise xOR on operands and assign value to left operand\n",
        "\n",
        "a=10\n",
        "a ^= 5 # a = a ^ 5\n",
        "print (a)"
      ],
      "metadata": {
        "colab": {
          "base_uri": "https://localhost:8080/"
        },
        "id": "2FJrdlXQMU7u",
        "outputId": "6219c28e-825c-4e9d-d841-c48758a16c61"
      },
      "execution_count": 26,
      "outputs": [
        {
          "output_type": "stream",
          "name": "stdout",
          "text": [
            "15\n"
          ]
        }
      ]
    },
    {
      "cell_type": "code",
      "source": [
        "# >>= Performs Bitwise right shift on operands and assign value to left operand\n",
        "a=10\n",
        "a>>= 5 # b = b >> 5\n",
        "print(a)\n"
      ],
      "metadata": {
        "colab": {
          "base_uri": "https://localhost:8080/"
        },
        "id": "0TRR1FWlMfq-",
        "outputId": "80c2ef58-1bb1-4865-a69d-d3a54f0746a9"
      },
      "execution_count": 31,
      "outputs": [
        {
          "output_type": "stream",
          "name": "stdout",
          "text": [
            "0\n"
          ]
        }
      ]
    },
    {
      "cell_type": "code",
      "source": [
        "# <<= Performs Bitwise left shift on operands and assign value to left operand\n",
        "\n",
        "a=10\n",
        "a<<= 5 # b = b << 5\n",
        "print(a)"
      ],
      "metadata": {
        "colab": {
          "base_uri": "https://localhost:8080/"
        },
        "id": "wby76FkqNkAe",
        "outputId": "07878714-bd5c-4cd1-da66-eb76c915ef01"
      },
      "execution_count": 32,
      "outputs": [
        {
          "output_type": "stream",
          "name": "stdout",
          "text": [
            "320\n"
          ]
        }
      ]
    },
    {
      "cell_type": "code",
      "source": [
        "a=10\n",
        "print(a := 5)\n",
        "\n",
        ""
      ],
      "metadata": {
        "colab": {
          "base_uri": "https://localhost:8080/"
        },
        "id": "cBZZxEriN-jW",
        "outputId": "763b1240-ee0e-448c-a0e0-6ce837abba01"
      },
      "execution_count": 35,
      "outputs": [
        {
          "output_type": "stream",
          "name": "stdout",
          "text": [
            "5\n"
          ]
        }
      ]
    },
    {
      "cell_type": "code",
      "source": [
        "a = 10\n",
        "b = a\n",
        "print(b)\n",
        "b += a\n",
        "print(b)\n",
        "b -= a\n",
        "print(b)\n",
        "b *= a\n",
        "print(b)\n",
        "b <<= a\n",
        "print(b)\n",
        "b >>= a\n",
        "print(b)\n",
        "b /= a\n",
        "print(b)\n",
        "b %= a\n",
        "print(b)\n",
        "b //a\n",
        "print(b)\n",
        "b **= a\n",
        "print(b)\n",
        "a &= 5\n",
        "print(b)\n",
        "a |= 5\n",
        "print(a)\n",
        "a ^= 5\n",
        "print(a)"
      ],
      "metadata": {
        "colab": {
          "base_uri": "https://localhost:8080/"
        },
        "id": "LAqp0Nv3OMqn",
        "outputId": "71b469ef-d9f9-4886-e500-5b30a3196686"
      },
      "execution_count": 42,
      "outputs": [
        {
          "output_type": "stream",
          "name": "stdout",
          "text": [
            "10\n",
            "20\n",
            "10\n",
            "100\n",
            "102400\n",
            "100\n",
            "10.0\n",
            "0.0\n",
            "0.0\n",
            "0.0\n",
            "0.0\n",
            "5\n",
            "0\n"
          ]
        }
      ]
    }
  ]
}