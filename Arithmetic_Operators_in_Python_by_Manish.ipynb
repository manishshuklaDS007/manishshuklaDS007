{
  "nbformat": 4,
  "nbformat_minor": 0,
  "metadata": {
    "colab": {
      "provenance": [],
      "authorship_tag": "ABX9TyOtQXbzw/xQyHtbAjWMSmI5",
      "include_colab_link": true
    },
    "kernelspec": {
      "name": "python3",
      "display_name": "Python 3"
    },
    "language_info": {
      "name": "python"
    }
  },
  "cells": [
    {
      "cell_type": "markdown",
      "metadata": {
        "id": "view-in-github",
        "colab_type": "text"
      },
      "source": [
        "<a href=\"https://colab.research.google.com/github/manishshuklaDS007/manishshuklaDS007/blob/main/Arithmetic_Operators_in_Python_by_Manish.ipynb\" target=\"_parent\"><img src=\"https://colab.research.google.com/assets/colab-badge.svg\" alt=\"Open In Colab\"/></a>"
      ]
    },
    {
      "cell_type": "code",
      "source": [
        "# Arithmetic Operators in Python\n",
        "# Operator   Name\n",
        "# +          Addition\n",
        "# -          Subtraction\n",
        "# *          Multiplication\n",
        "# /          Division\n",
        "# %          Modulus - It's not percent, It's modulo operation(%) which returns the remainder of dividing the left-hand operand by right-hand operand\n",
        "# **         Exponentiation\n",
        "# //         Floor Division\n"
      ],
      "metadata": {
        "id": "2sNIzjSZ-9sj"
      },
      "execution_count": null,
      "outputs": []
    },
    {
      "cell_type": "code",
      "source": [
        "a=10\n",
        "b=20\n",
        "print(a+b)\n",
        "print(a-b)\n",
        "print(a*b)\n",
        "print(a/b)\n",
        "print(a%b)\n",
        "print(a**b)\n",
        "print(a//b)"
      ],
      "metadata": {
        "colab": {
          "base_uri": "https://localhost:8080/"
        },
        "id": "J1ixlG3yYQ8Z",
        "outputId": "11141095-6688-4450-ea10-5259f6544817"
      },
      "execution_count": 1,
      "outputs": [
        {
          "output_type": "stream",
          "name": "stdout",
          "text": [
            "30\n",
            "-10\n",
            "200\n",
            "0.5\n",
            "10\n",
            "100000000000000000000\n",
            "0\n"
          ]
        }
      ]
    },
    {
      "cell_type": "code",
      "source": [
        "# +           Addition\n",
        "\n",
        "a=5\n",
        "b=10\n",
        "print(a+b)"
      ],
      "metadata": {
        "colab": {
          "base_uri": "https://localhost:8080/"
        },
        "id": "uyc-jqT1dQJO",
        "outputId": "8a45715c-8ae7-4f90-e9e3-5a5f65017b8b"
      },
      "execution_count": 9,
      "outputs": [
        {
          "output_type": "stream",
          "name": "stdout",
          "text": [
            "15\n"
          ]
        }
      ]
    },
    {
      "cell_type": "code",
      "source": [
        "# -           Subtraction\n",
        "\n",
        "a=5\n",
        "b=10\n",
        "print(a-b)\n",
        "print (b-a)"
      ],
      "metadata": {
        "colab": {
          "base_uri": "https://localhost:8080/"
        },
        "id": "3ttdB55QdYgL",
        "outputId": "2d3d3982-ec50-46f8-d379-3538b18e818f"
      },
      "execution_count": 11,
      "outputs": [
        {
          "output_type": "stream",
          "name": "stdout",
          "text": [
            "-5\n",
            "5\n"
          ]
        }
      ]
    },
    {
      "cell_type": "code",
      "source": [
        "# *           Multiplication\n",
        "\n",
        "a=5\n",
        "b=10\n",
        "print(a*b)\n"
      ],
      "metadata": {
        "colab": {
          "base_uri": "https://localhost:8080/"
        },
        "id": "xZupechPdtmO",
        "outputId": "dd03bd88-69dd-4f63-cc27-e393b0c58606"
      },
      "execution_count": 12,
      "outputs": [
        {
          "output_type": "stream",
          "name": "stdout",
          "text": [
            "50\n"
          ]
        }
      ]
    },
    {
      "cell_type": "code",
      "source": [
        "# /           Division\n",
        "\n",
        "a=5\n",
        "b=10\n",
        "print(a/b)\n",
        "print (b/a)"
      ],
      "metadata": {
        "colab": {
          "base_uri": "https://localhost:8080/"
        },
        "id": "EDaz_pOedz1l",
        "outputId": "a297fde7-0089-45f4-d759-764e6e7aa6dc"
      },
      "execution_count": 14,
      "outputs": [
        {
          "output_type": "stream",
          "name": "stdout",
          "text": [
            "0.5\n",
            "2.0\n"
          ]
        }
      ]
    },
    {
      "cell_type": "code",
      "source": [
        "# %      Modulus  - It's not percent, It's modulo operation(%) which returns the remainder of dividing the left-hand operand by right-hand operand\n",
        "\n",
        "a=5\n",
        "b=10\n",
        "print(a%b)\n",
        "print (b%a)\n",
        "\n",
        "a=7\n",
        "b=2\n",
        "print(a%b)\n",
        "print (b%a)"
      ],
      "metadata": {
        "colab": {
          "base_uri": "https://localhost:8080/"
        },
        "id": "IPWQHgCUeLR5",
        "outputId": "dbecd2c4-a823-4e60-f0ca-e6c78ec624b9"
      },
      "execution_count": 16,
      "outputs": [
        {
          "output_type": "stream",
          "name": "stdout",
          "text": [
            "5\n",
            "0\n",
            "1\n",
            "2\n"
          ]
        }
      ]
    },
    {
      "cell_type": "code",
      "source": [
        "# **          Exponentiation\n",
        "\n",
        "a=2\n",
        "b=4\n",
        "print(a**b)\n",
        "print (b**a)"
      ],
      "metadata": {
        "colab": {
          "base_uri": "https://localhost:8080/"
        },
        "id": "-rdxi_8aewrp",
        "outputId": "f61656f6-0745-4f77-9c23-987480578b0a"
      },
      "execution_count": 18,
      "outputs": [
        {
          "output_type": "stream",
          "name": "stdout",
          "text": [
            "16\n",
            "16\n"
          ]
        }
      ]
    },
    {
      "cell_type": "code",
      "source": [
        "# //          Floor Division\n",
        "\n",
        "a=5\n",
        "b=10\n",
        "print(a//b)\n",
        "print (b//a)"
      ],
      "metadata": {
        "colab": {
          "base_uri": "https://localhost:8080/"
        },
        "id": "xiNKu_Wee9VU",
        "outputId": "14409666-4bbd-4144-d8f9-39ca52a9da68"
      },
      "execution_count": 19,
      "outputs": [
        {
          "output_type": "stream",
          "name": "stdout",
          "text": [
            "0\n",
            "2\n"
          ]
        }
      ]
    },
    {
      "cell_type": "code",
      "source": [
        "#Difference between division and floor division :\n",
        "#The result of regular division is always a float, whereas if one of the operands is a float in floor division, then the output will be a float.\n",
        "\n",
        "# /           Division\n",
        "\n",
        "a=5\n",
        "b=10\n",
        "print(a/b)\n",
        "print (b/a)\n",
        "\n",
        "# //          Floor Division\n",
        "\n",
        "a=5\n",
        "b=10\n",
        "print(a//b)\n",
        "print (b//a)\n",
        "\n",
        "\n"
      ],
      "metadata": {
        "colab": {
          "base_uri": "https://localhost:8080/"
        },
        "id": "d0wt9WhDfJs1",
        "outputId": "33bfc2a5-3b65-4bd6-b73b-491ee9080805"
      },
      "execution_count": 21,
      "outputs": [
        {
          "output_type": "stream",
          "name": "stdout",
          "text": [
            "0.5\n",
            "2.0\n",
            "0\n",
            "2\n"
          ]
        }
      ]
    },
    {
      "cell_type": "code",
      "source": [],
      "metadata": {
        "id": "zfbHzUJrfcDM"
      },
      "execution_count": null,
      "outputs": []
    }
  ]
}