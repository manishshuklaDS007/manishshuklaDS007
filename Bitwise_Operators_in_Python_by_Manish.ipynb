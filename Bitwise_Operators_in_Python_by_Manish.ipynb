{
  "nbformat": 4,
  "nbformat_minor": 0,
  "metadata": {
    "colab": {
      "provenance": [],
      "authorship_tag": "ABX9TyNlZgz7+LwD3wlmTgtyVEwQ",
      "include_colab_link": true
    },
    "kernelspec": {
      "name": "python3",
      "display_name": "Python 3"
    },
    "language_info": {
      "name": "python"
    }
  },
  "cells": [
    {
      "cell_type": "markdown",
      "metadata": {
        "id": "view-in-github",
        "colab_type": "text"
      },
      "source": [
        "<a href=\"https://colab.research.google.com/github/manishshuklaDS007/manishshuklaDS007/blob/main/Bitwise_Operators_in_Python_by_Manish.ipynb\" target=\"_parent\"><img src=\"https://colab.research.google.com/assets/colab-badge.svg\" alt=\"Open In Colab\"/></a>"
      ]
    },
    {
      "cell_type": "code",
      "execution_count": null,
      "metadata": {
        "id": "GALdZzaRf_Hw"
      },
      "outputs": [],
      "source": [
        "'''\n",
        "\n",
        "Operator\t                                  Name\t\t\t      Description\t\t\t\t\t\t\t\t\t\t\t\t                    Example\n",
        "\n",
        "& \t\t                                      AND\t\t\t        Sets each bit to 1 if both bits are 1\t\t\t\t\t\t\t\t\tx & y\n",
        "|\t\t                                        OR\t\t\t        Sets each bit to 1 if one of two bits is 1\t\t\t\t\t\tx | y\n",
        "^\t\t                                        XOR\t\t\t        Sets each bit to 1 if only one of two bits is 1\t\t\t\tx ^ y\n",
        "~\t\t                                        NOT\t\t\t        Inverts all the bits\t                                ~x\n",
        "<<\t\t                             Zero fill left shift\t    Shift left by pushing zeros in\n",
        "                                                            from the right and let the leftmost bits fall off\t\t\tx << 2\n",
        "\n",
        "\n",
        ">>\t\t                            Signed right shift\t      Shift right by pushing copies of the leftmost bit\n",
        "                                                            in from the left, and let the rightmost bits fall off\tx >> 2\n",
        "\n",
        "'''"
      ]
    },
    {
      "cell_type": "code",
      "source": [
        "'''\n",
        "Formula\t\t\t\t\t        16    8   4    2    1\n",
        "\n",
        "Binary number of 6\t\t\t\t\t       1   1\t  0\n",
        "Binary number of 4\t\t\t\t\t       1\t 0\t  0\n",
        "\n",
        "Binary of 6 and 4 in Binary Using AND Operator\t\t1\t  0\t  0\t        4 - Answer\n",
        "_______________________________________________________________________________\n",
        "\n",
        "Operator\tOR (|)\n",
        "\n",
        "Formula\t16\t\t\t\t\t\t      8\t4\t2\t1\n",
        "Binary number of 6\t\t\t\t\t\t1\t1\t0\n",
        "Binary number of 4\t\t\t\t\t\t1\t0\t0\n",
        "\n",
        "Binary  of 6 and 4 Using OR Operator\t\t\t\t1\t1\t0\t    6 - Answer\n",
        "_______________________________________________________________________________\n",
        "\n",
        "Operator\tXOR (^)\n",
        "\t\t\t\t\t\t\t\t\t\t\t\tAnswer\n",
        "Formula\t\t\t\t\t        32\t16\t8\t4\t2\t1\n",
        "\n",
        "Binary number of 15\t\t\t\t\t1\t1\t1\t1\n",
        "Binary number of 32\t\t\t1\t0\t0\t0\t0\t0\n",
        "\n",
        "Binary  of 15 and 32 Using XOR Operator\t1\t0\t1\t1\t1\t1\t\t47 - Answer\n",
        "_______________________________________________________________________________\n",
        "\n",
        "Formula\t\t\t\t\t\t32\t16\t8\t4\t2\t1\tAnswer\t\t\tAnswer\n",
        "\n",
        "Binary of 5\t\t\t\t\t\t\t\t1\t0\t1\n",
        "5<<3\t\tLeft shift\t\t\t1\t0\t1\t0\t0\t0\t40\n",
        "\n",
        "5<<2\t\t\t\t\t\t\t1\t0\t1\t0\t0\t20\n",
        "\n",
        "Binary of 10\t\t\t\t\t\t\t1\t0\t1\t0\n",
        "10>>2\tRight Shift\t\t\t\t\t\t0\t0\t1\t0\t1\t0\t\t2\n",
        "\n",
        "10>>3\t\t\t\t\t\t\t\t0\t0\t0\t1\t0\t1\t0\t1\n",
        "\n",
        "_______________________________________________________________________________\n",
        "\n",
        "\n",
        "\n",
        " X\t Y\t\tX AND Y\t\tX OR Y\t\tX XOR Y\n",
        "________________________________________________\n",
        "TRUE\tTRUE\t\tTRUE\t\tTRUE\t\tFALSE\n",
        "TRUE\tFALSE\t\tFALSE\t\tTRUE\t\tTRUE\n",
        "FALSE\tTRUE\t\tFALSE\t\tTRUE\t\tTRUE\n",
        "FALSE\tFALSE\t\tFALSE\t\tFALSE\t\tFALSE\n",
        "\n",
        "0= FALSE\n",
        "1= TRUE\n",
        "\n",
        "'''\n",
        "\n",
        "\n"
      ],
      "metadata": {
        "colab": {
          "base_uri": "https://localhost:8080/",
          "height": 104
        },
        "id": "JbodztW3nrro",
        "outputId": "2c153638-aa7c-48bf-e335-78a6d46163e0"
      },
      "execution_count": 1,
      "outputs": [
        {
          "output_type": "execute_result",
          "data": {
            "text/plain": [
              "'\\nFormula\\t\\t\\t\\t\\t        16    8   4    2    1\\t\\n\\t\\t\\t\\t\\t\\t\\nBinary number of 6\\t\\t\\t\\t\\t       1   1\\t  0\\t\\nBinary number of 4\\t\\t\\t\\t\\t       1\\t 0\\t  0\\n\\t\\nBinary of 6 and 4 in Binary Using AND Operator\\t\\t1\\t  0\\t  0\\t        4 - Answer\\n_______________________________________________________________________________\\n X\\t    Y\\t\\t      X AND Y\\t      X OR Y\\n _____________________________________\\t\\t\\nTRUE\\t  TRUE\\t\\t  TRUE\\t\\t      TRUE\\t\\t\\nTRUE\\t  FALSE\\t\\t  FALSE\\t\\t      TRUE\\t\\nFALSE\\t  TRUE\\t\\t  FALSE\\t\\t      TRUE\\t\\nFALSE\\t  FALSE\\t\\t  FALSE\\t\\t      FALSE\\t\\n\\n0= FALSE\\n1= TRUE\\n\\n'"
            ],
            "application/vnd.google.colaboratory.intrinsic+json": {
              "type": "string"
            }
          },
          "metadata": {},
          "execution_count": 1
        }
      ]
    },
    {
      "cell_type": "code",
      "source": [
        "# AND\n",
        "print(6&4)\n"
      ],
      "metadata": {
        "colab": {
          "base_uri": "https://localhost:8080/"
        },
        "id": "CAWa52unePhC",
        "outputId": "1fb4e738-0b62-4b91-a786-d81aa7d65350"
      },
      "execution_count": 2,
      "outputs": [
        {
          "output_type": "stream",
          "name": "stdout",
          "text": [
            "4\n"
          ]
        }
      ]
    },
    {
      "cell_type": "code",
      "source": [
        "# AND\n",
        "print(23&17)"
      ],
      "metadata": {
        "colab": {
          "base_uri": "https://localhost:8080/"
        },
        "id": "RVVt4Csfeh-U",
        "outputId": "74807eed-9619-44ef-f309-68e003e5ef7b"
      },
      "execution_count": 3,
      "outputs": [
        {
          "output_type": "stream",
          "name": "stdout",
          "text": [
            "17\n"
          ]
        }
      ]
    },
    {
      "cell_type": "code",
      "source": [
        "# OR\n",
        "print(6|4)"
      ],
      "metadata": {
        "colab": {
          "base_uri": "https://localhost:8080/"
        },
        "id": "vMREMTFggIcu",
        "outputId": "f9b8105d-1d70-40dc-f41e-6904c77f0268"
      },
      "execution_count": 4,
      "outputs": [
        {
          "output_type": "stream",
          "name": "stdout",
          "text": [
            "6\n"
          ]
        }
      ]
    },
    {
      "cell_type": "code",
      "source": [
        "# OR\n",
        "print(23|17)"
      ],
      "metadata": {
        "colab": {
          "base_uri": "https://localhost:8080/"
        },
        "id": "W6275N2Ng_J7",
        "outputId": "f45122bb-159f-47b9-ab20-8c606e4989e5"
      },
      "execution_count": 5,
      "outputs": [
        {
          "output_type": "stream",
          "name": "stdout",
          "text": [
            "23\n"
          ]
        }
      ]
    },
    {
      "cell_type": "code",
      "source": [
        "# XOR\n",
        "print(15^32)"
      ],
      "metadata": {
        "colab": {
          "base_uri": "https://localhost:8080/"
        },
        "id": "b4-IMSzVhaqh",
        "outputId": "c550a0c3-27bd-4fb0-f0f0-9b8fc1b5e998"
      },
      "execution_count": 7,
      "outputs": [
        {
          "output_type": "stream",
          "name": "stdout",
          "text": [
            "47\n"
          ]
        }
      ]
    },
    {
      "cell_type": "code",
      "source": [
        "# XOR\n",
        "print(13^17)"
      ],
      "metadata": {
        "colab": {
          "base_uri": "https://localhost:8080/"
        },
        "id": "5hqVEwn0jjh1",
        "outputId": "293f8288-087c-4b34-da58-25c3aa10757e"
      },
      "execution_count": 8,
      "outputs": [
        {
          "output_type": "stream",
          "name": "stdout",
          "text": [
            "28\n"
          ]
        }
      ]
    },
    {
      "cell_type": "code",
      "source": [
        "# XOR\n",
        "print(21^26)"
      ],
      "metadata": {
        "colab": {
          "base_uri": "https://localhost:8080/"
        },
        "id": "5UgarEFZlcuI",
        "outputId": "25527980-6ae7-42cc-b9c3-8da69d9e4131"
      },
      "execution_count": 9,
      "outputs": [
        {
          "output_type": "stream",
          "name": "stdout",
          "text": [
            "15\n"
          ]
        }
      ]
    },
    {
      "cell_type": "code",
      "source": [
        "a= 5\n",
        "print('~a:', ~a)"
      ],
      "metadata": {
        "colab": {
          "base_uri": "https://localhost:8080/"
        },
        "id": "2xv0e3rlANZD",
        "outputId": "a8f23816-b102-4b23-e49c-b4a83668bf54"
      },
      "execution_count": 10,
      "outputs": [
        {
          "output_type": "stream",
          "name": "stdout",
          "text": [
            "~a: -6\n"
          ]
        }
      ]
    },
    {
      "cell_type": "code",
      "source": [
        "# Left Shift\n",
        "print (5<<3)\n",
        "print (5<<2)"
      ],
      "metadata": {
        "colab": {
          "base_uri": "https://localhost:8080/"
        },
        "id": "XjFulVoKACHu",
        "outputId": "239755f3-8e1e-46cd-df42-f326a90fd9e3"
      },
      "execution_count": 4,
      "outputs": [
        {
          "output_type": "stream",
          "name": "stdout",
          "text": [
            "40\n",
            "20\n"
          ]
        }
      ]
    },
    {
      "cell_type": "code",
      "source": [
        "# Right Shift\n",
        "print (10>>3)\n",
        "print (10>>2)"
      ],
      "metadata": {
        "colab": {
          "base_uri": "https://localhost:8080/"
        },
        "id": "TnbNwKnptTOn",
        "outputId": "b8cc8634-0d3b-4521-e5bd-17c6d2383faf"
      },
      "execution_count": 5,
      "outputs": [
        {
          "output_type": "stream",
          "name": "stdout",
          "text": [
            "1\n",
            "2\n"
          ]
        }
      ]
    },
    {
      "cell_type": "code",
      "source": [],
      "metadata": {
        "id": "kkS2hasNALES"
      },
      "execution_count": null,
      "outputs": []
    }
  ]
}