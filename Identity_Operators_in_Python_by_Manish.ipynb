{
  "nbformat": 4,
  "nbformat_minor": 0,
  "metadata": {
    "colab": {
      "provenance": [],
      "authorship_tag": "ABX9TyNfSSUgX0MbNPGO1ceiLeI1",
      "include_colab_link": true
    },
    "kernelspec": {
      "name": "python3",
      "display_name": "Python 3"
    },
    "language_info": {
      "name": "python"
    }
  },
  "cells": [
    {
      "cell_type": "markdown",
      "metadata": {
        "id": "view-in-github",
        "colab_type": "text"
      },
      "source": [
        "<a href=\"https://colab.research.google.com/github/manishshuklaDS007/manishshuklaDS007/blob/main/Identity_Operators_in_Python_by_Manish.ipynb\" target=\"_parent\"><img src=\"https://colab.research.google.com/assets/colab-badge.svg\" alt=\"Open In Colab\"/></a>"
      ]
    },
    {
      "cell_type": "code",
      "execution_count": null,
      "metadata": {
        "id": "xJUPB0hJrZhF"
      },
      "outputs": [],
      "source": [
        "'''\n",
        "Operator\t        Description\tExample\t                                      Try it\n",
        "\n",
        "is \t              Returns True if both variables are the same object\t      x is y\n",
        "is not\t          Returns True if both variables are not the same object\t  x is not y\n",
        "\n",
        "'''"
      ]
    },
    {
      "cell_type": "code",
      "source": [
        "x=10; y=5; print(x is y)\n",
        "x=10; y=10; print(x is y)\n",
        "x=10; y=5; print(x is not y)\n",
        "x=10; y=10; print(x is not y)"
      ],
      "metadata": {
        "colab": {
          "base_uri": "https://localhost:8080/"
        },
        "id": "dQN60kYCrp_b",
        "outputId": "3727f1b0-d4b0-4bb6-9661-25ef46757853"
      },
      "execution_count": 4,
      "outputs": [
        {
          "output_type": "stream",
          "name": "stdout",
          "text": [
            "False\n",
            "True\n",
            "True\n",
            "False\n"
          ]
        }
      ]
    }
  ]
}