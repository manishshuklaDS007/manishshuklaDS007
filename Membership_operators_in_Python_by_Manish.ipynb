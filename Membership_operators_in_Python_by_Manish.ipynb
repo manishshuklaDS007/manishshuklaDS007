{
  "nbformat": 4,
  "nbformat_minor": 0,
  "metadata": {
    "colab": {
      "provenance": [],
      "authorship_tag": "ABX9TyNzfxHP/Ae7Homhn4j7kH3C",
      "include_colab_link": true
    },
    "kernelspec": {
      "name": "python3",
      "display_name": "Python 3"
    },
    "language_info": {
      "name": "python"
    }
  },
  "cells": [
    {
      "cell_type": "markdown",
      "metadata": {
        "id": "view-in-github",
        "colab_type": "text"
      },
      "source": [
        "<a href=\"https://colab.research.google.com/github/manishshuklaDS007/manishshuklaDS007/blob/main/Membership_operators_in_Python_by_Manish.ipynb\" target=\"_parent\"><img src=\"https://colab.research.google.com/assets/colab-badge.svg\" alt=\"Open In Colab\"/></a>"
      ]
    },
    {
      "cell_type": "code",
      "execution_count": null,
      "metadata": {
        "id": "_iJSr3Wi43oZ"
      },
      "outputs": [],
      "source": [
        "'''\n",
        "Membership Operators\n",
        "\n",
        "Operator\tDescription\n",
        "                            \t\t\t\t\t\t                                                      Example\n",
        "\n",
        "in \t\t    Returns True if a sequence with the specified value is present in the object\t\t    x in y\n",
        "not in\t\tReturns True if a sequence with the specified value is not present in the object\t  x not in y\n",
        "\n",
        "'''\n",
        "\n",
        "\n"
      ]
    },
    {
      "cell_type": "code",
      "source": [
        "a=[1,4,8,0]\n",
        "print(1 in a)\n",
        "print(10 not in a)"
      ],
      "metadata": {
        "colab": {
          "base_uri": "https://localhost:8080/"
        },
        "id": "CTi5t6ED52AD",
        "outputId": "0b474aeb-4bd8-49de-f4c3-810db15da143"
      },
      "execution_count": 3,
      "outputs": [
        {
          "output_type": "stream",
          "name": "stdout",
          "text": [
            "True\n",
            "True\n"
          ]
        }
      ]
    },
    {
      "cell_type": "code",
      "source": [
        "b=['Mango', 'Orange']\n",
        "print('Mango' in b)\n",
        "print('Apple' not in b)"
      ],
      "metadata": {
        "colab": {
          "base_uri": "https://localhost:8080/"
        },
        "id": "3_NV-DMvHF2I",
        "outputId": "ef4e9ec0-379b-4673-cc18-2cb06a3bb027"
      },
      "execution_count": 4,
      "outputs": [
        {
          "output_type": "stream",
          "name": "stdout",
          "text": [
            "True\n",
            "True\n"
          ]
        }
      ]
    },
    {
      "cell_type": "code",
      "source": [
        "c=['a','b','c','d','e']\n",
        "print('g' in c)\n",
        "print('h' not in c)"
      ],
      "metadata": {
        "colab": {
          "base_uri": "https://localhost:8080/"
        },
        "id": "7q46BNYvHJKr",
        "outputId": "fb0f15d4-a59c-4f3a-f340-8b90d3f3bee6"
      },
      "execution_count": 6,
      "outputs": [
        {
          "output_type": "stream",
          "name": "stdout",
          "text": [
            "False\n",
            "True\n"
          ]
        }
      ]
    }
  ]
}